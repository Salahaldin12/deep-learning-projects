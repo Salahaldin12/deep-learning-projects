{
 "cells": [
  {
   "cell_type": "code",
   "execution_count": 1,
   "id": "6618aeb0",
   "metadata": {
    "ExecuteTime": {
     "end_time": "2022-10-02T23:02:36.786125Z",
     "start_time": "2022-10-02T23:02:33.861882Z"
    }
   },
   "outputs": [],
   "source": [
    "#import libraries\n",
    "import numpy as np \n",
    "import matplotlib as plt\n",
    "import tensorflow as tf \n",
    "from tensorflow.keras import layers ,models ,Sequential\n",
    "from tensorflow.keras.models import Model\n",
    "from tensorflow.keras.preprocessing.image import ImageDataGenerator ,load_img \n",
    "from tensorflow.keras.applications.resnet50 import preprocess_input , decode_predictions,ResNet50\n",
    "from tensorflow.keras.layers import Conv2D,Flatten,Dense,MaxPool2D,BatchNormalization,GlobalAveragePooling2D"
   ]
  },
  {
   "cell_type": "code",
   "execution_count": 2,
   "id": "9b2003f9",
   "metadata": {
    "ExecuteTime": {
     "end_time": "2022-10-02T23:02:39.605140Z",
     "start_time": "2022-10-02T23:02:39.589504Z"
    }
   },
   "outputs": [],
   "source": [
    "#Define training and test files\n",
    "img_height, img_width = (64,64)\n",
    "batch_size= 32\n",
    "train_data = f\"data/train\"\n",
    "test_data = f\"data/test\""
   ]
  },
  {
   "cell_type": "code",
   "execution_count": 3,
   "id": "0cd2e6a6",
   "metadata": {
    "ExecuteTime": {
     "end_time": "2022-10-02T23:02:40.681051Z",
     "start_time": "2022-10-02T23:02:40.671407Z"
    }
   },
   "outputs": [],
   "source": [
    "class_mode=\"categorical\""
   ]
  },
  {
   "cell_type": "code",
   "execution_count": 4,
   "id": "2cc7b8b7",
   "metadata": {
    "ExecuteTime": {
     "end_time": "2022-10-02T23:02:41.765538Z",
     "start_time": "2022-10-02T23:02:41.611728Z"
    }
   },
   "outputs": [
    {
     "name": "stdout",
     "output_type": "stream",
     "text": [
      "Found 3010 images belonging to 7 classes.\n"
     ]
    }
   ],
   "source": [
    "#Divide into training, testing and validation\n",
    "train_data_1 = ImageDataGenerator(preprocessing_function=preprocess_input,\n",
    "                                  shear_range=0.2,\n",
    "                                  zoom_range=0.2,\n",
    "                                  horizontal_flip=True,\n",
    "                                  validation_split=0.4)\n",
    "train_genter = train_data_1.flow_from_directory(train_data,\n",
    "                                               target_size=(img_height,img_width),\n",
    "                                               batch_size=batch_size,\n",
    "                                               class_mode=\"categorical\")"
   ]
  },
  {
   "cell_type": "code",
   "execution_count": 5,
   "id": "2a2d474c",
   "metadata": {
    "ExecuteTime": {
     "end_time": "2022-10-02T23:02:44.842958Z",
     "start_time": "2022-10-02T23:02:44.780390Z"
    }
   },
   "outputs": [
    {
     "name": "stdout",
     "output_type": "stream",
     "text": [
      "Found 770 images belonging to 7 classes.\n"
     ]
    }
   ],
   "source": [
    "test_genter = train_data_1.flow_from_directory(test_data,\n",
    "                                               target_size=(img_height,img_width),\n",
    "                                               batch_size=batch_size,\n",
    "                                               class_mode=\"categorical\")"
   ]
  },
  {
   "cell_type": "code",
   "execution_count": 6,
   "id": "f1517240",
   "metadata": {
    "ExecuteTime": {
     "end_time": "2022-10-02T23:02:46.116964Z",
     "start_time": "2022-10-02T23:02:45.984419Z"
    }
   },
   "outputs": [
    {
     "data": {
      "text/plain": [
       "(32, 64, 64, 3)"
      ]
     },
     "execution_count": 6,
     "metadata": {},
     "output_type": "execute_result"
    }
   ],
   "source": [
    "x,y = test_genter.next()\n",
    "x.shape"
   ]
  },
  {
   "cell_type": "markdown",
   "id": "aab506c9",
   "metadata": {},
   "source": [
    "### Create more than one neural network and train it on images"
   ]
  },
  {
   "cell_type": "code",
   "execution_count": 7,
   "id": "53965ebb",
   "metadata": {
    "ExecuteTime": {
     "end_time": "2022-10-02T23:09:06.281105Z",
     "start_time": "2022-10-02T23:02:47.767946Z"
    }
   },
   "outputs": [
    {
     "name": "stdout",
     "output_type": "stream",
     "text": [
      "Epoch 1/20\n",
      "95/95 [==============================] - 21s 188ms/step - loss: 2.8501 - accuracy: 0.2615\n",
      "Epoch 2/20\n",
      "95/95 [==============================] - 18s 186ms/step - loss: 1.6661 - accuracy: 0.3688\n",
      "Epoch 3/20\n",
      "95/95 [==============================] - 18s 193ms/step - loss: 1.5796 - accuracy: 0.4063\n",
      "Epoch 4/20\n",
      "95/95 [==============================] - 19s 195ms/step - loss: 1.5348 - accuracy: 0.4159\n",
      "Epoch 5/20\n",
      "95/95 [==============================] - 19s 194ms/step - loss: 1.4500 - accuracy: 0.4678\n",
      "Epoch 6/20\n",
      "95/95 [==============================] - 19s 195ms/step - loss: 1.4178 - accuracy: 0.4757\n",
      "Epoch 7/20\n",
      "95/95 [==============================] - 19s 202ms/step - loss: 1.3484 - accuracy: 0.4927\n",
      "Epoch 8/20\n",
      "95/95 [==============================] - 19s 195ms/step - loss: 1.3120 - accuracy: 0.5110\n",
      "Epoch 9/20\n",
      "95/95 [==============================] - 19s 196ms/step - loss: 1.2433 - accuracy: 0.5415\n",
      "Epoch 10/20\n",
      "95/95 [==============================] - 19s 195ms/step - loss: 1.2215 - accuracy: 0.5555\n",
      "Epoch 11/20\n",
      "95/95 [==============================] - 19s 195ms/step - loss: 1.1969 - accuracy: 0.5615\n",
      "Epoch 12/20\n",
      "95/95 [==============================] - 19s 195ms/step - loss: 1.1462 - accuracy: 0.5811\n",
      "Epoch 13/20\n",
      "95/95 [==============================] - 19s 196ms/step - loss: 1.1337 - accuracy: 0.5860\n",
      "Epoch 14/20\n",
      "95/95 [==============================] - 19s 196ms/step - loss: 1.0679 - accuracy: 0.6140\n",
      "Epoch 15/20\n",
      "95/95 [==============================] - 19s 196ms/step - loss: 1.0677 - accuracy: 0.6126\n",
      "Epoch 16/20\n",
      "95/95 [==============================] - 19s 197ms/step - loss: 1.0135 - accuracy: 0.6296\n",
      "Epoch 17/20\n",
      "95/95 [==============================] - 19s 197ms/step - loss: 0.9582 - accuracy: 0.6495\n",
      "Epoch 18/20\n",
      "95/95 [==============================] - 19s 196ms/step - loss: 0.9929 - accuracy: 0.6405\n",
      "Epoch 19/20\n",
      "95/95 [==============================] - 19s 195ms/step - loss: 0.9292 - accuracy: 0.6708\n",
      "Epoch 20/20\n",
      "95/95 [==============================] - 19s 198ms/step - loss: 0.8965 - accuracy: 0.6731\n"
     ]
    },
    {
     "data": {
      "text/plain": [
       "<keras.callbacks.History at 0x2810a24e280>"
      ]
     },
     "execution_count": 7,
     "metadata": {},
     "output_type": "execute_result"
    }
   ],
   "source": [
    "#\n",
    "model_cs = ResNet50(include_top=False,weights=\"imagenet\")\n",
    "x = model_cs.output\n",
    "x = GlobalAveragePooling2D()(x)\n",
    "x = Dense(1024,activation=\"relu\")(x)\n",
    "pred = Dense(train_genter.num_classes,activation='softmax')(x)\n",
    "model = Model(inputs=model_cs.input,outputs=pred)\n",
    "for layer in model_cs.layers:\n",
    "    layer.trainable = False\n",
    "model.compile(optimizer='adam',loss='categorical_crossentropy',metrics=['accuracy'])\n",
    "model.fit(train_genter, epochs=20)"
   ]
  },
  {
   "cell_type": "code",
   "execution_count": 8,
   "id": "c98e68d4",
   "metadata": {
    "ExecuteTime": {
     "end_time": "2022-10-02T23:10:30.105189Z",
     "start_time": "2022-10-02T23:10:24.428020Z"
    }
   },
   "outputs": [
    {
     "name": "stdout",
     "output_type": "stream",
     "text": [
      "25/25 [==============================] - 6s 176ms/step - loss: 1.9409 - accuracy: 0.3922\n"
     ]
    },
    {
     "data": {
      "text/plain": [
       "[1.9408588409423828, 0.3922078013420105]"
      ]
     },
     "execution_count": 8,
     "metadata": {},
     "output_type": "execute_result"
    }
   ],
   "source": [
    "model.evaluate(test_genter)"
   ]
  },
  {
   "cell_type": "code",
   "execution_count": 9,
   "id": "b47ccdf2",
   "metadata": {
    "ExecuteTime": {
     "end_time": "2022-10-02T23:10:34.091431Z",
     "start_time": "2022-10-02T23:10:34.010134Z"
    }
   },
   "outputs": [],
   "source": [
    "cnn = Sequential([\n",
    "                  layers.Conv2D(32, (2,2), activation='relu', input_shape=(64, 64, 3)),\n",
    "                  layers.MaxPooling2D(3,3),\n",
    "                  layers.Conv2D(64, kernel_size=(3,3),activation='relu',kernel_initializer='he_normal'),\n",
    "                  layers.MaxPooling2D(2,2),\n",
    "                  #layers.Conv2D(64, (2, 2), activation='relu'),\n",
    "                  layers.Conv2D(64, kernel_size=(2,2),activation='relu',kernel_initializer='he_normal'),\n",
    "                  layers.MaxPooling2D(2,2),\n",
    "                  layers.Flatten(),\n",
    "                  layers.Dense(128,activation='relu'),\n",
    "                  layers.Dense(7,activation='softmax',kernel_initializer='glorot_normal')\n",
    "                  \n",
    "])"
   ]
  },
  {
   "cell_type": "code",
   "execution_count": 10,
   "id": "24c0ac96",
   "metadata": {
    "ExecuteTime": {
     "end_time": "2022-10-02T23:14:02.085362Z",
     "start_time": "2022-10-02T23:10:37.106460Z"
    }
   },
   "outputs": [
    {
     "name": "stdout",
     "output_type": "stream",
     "text": [
      "Epoch 1/30\n",
      "95/95 [==============================] - 8s 75ms/step - loss: 6.7860 - accuracy: 0.1635\n",
      "Epoch 2/30\n",
      "95/95 [==============================] - 7s 71ms/step - loss: 1.9968 - accuracy: 0.1781\n",
      "Epoch 3/30\n",
      "95/95 [==============================] - 7s 74ms/step - loss: 1.9575 - accuracy: 0.1671\n",
      "Epoch 4/30\n",
      "95/95 [==============================] - 7s 73ms/step - loss: 1.9382 - accuracy: 0.1701\n",
      "Epoch 5/30\n",
      "95/95 [==============================] - 7s 70ms/step - loss: 1.9362 - accuracy: 0.1691\n",
      "Epoch 6/30\n",
      "95/95 [==============================] - 7s 70ms/step - loss: 1.9438 - accuracy: 0.1561\n",
      "Epoch 7/30\n",
      "95/95 [==============================] - 7s 71ms/step - loss: 1.9378 - accuracy: 0.1641\n",
      "Epoch 8/30\n",
      "95/95 [==============================] - 7s 71ms/step - loss: 1.9182 - accuracy: 0.2013\n",
      "Epoch 9/30\n",
      "95/95 [==============================] - 7s 71ms/step - loss: 1.8856 - accuracy: 0.2239\n",
      "Epoch 10/30\n",
      "95/95 [==============================] - 7s 70ms/step - loss: 1.8724 - accuracy: 0.2309\n",
      "Epoch 11/30\n",
      "95/95 [==============================] - 7s 71ms/step - loss: 1.8582 - accuracy: 0.2342\n",
      "Epoch 12/30\n",
      "95/95 [==============================] - 7s 71ms/step - loss: 1.8382 - accuracy: 0.2601\n",
      "Epoch 13/30\n",
      "95/95 [==============================] - 7s 71ms/step - loss: 1.8406 - accuracy: 0.2575\n",
      "Epoch 14/30\n",
      "95/95 [==============================] - 7s 71ms/step - loss: 1.8169 - accuracy: 0.2638\n",
      "Epoch 15/30\n",
      "95/95 [==============================] - 7s 70ms/step - loss: 1.8223 - accuracy: 0.2598\n",
      "Epoch 16/30\n",
      "95/95 [==============================] - 7s 71ms/step - loss: 1.8072 - accuracy: 0.2847\n",
      "Epoch 17/30\n",
      "95/95 [==============================] - 7s 71ms/step - loss: 1.7817 - accuracy: 0.2934\n",
      "Epoch 18/30\n",
      "95/95 [==============================] - 7s 70ms/step - loss: 1.7705 - accuracy: 0.2967\n",
      "Epoch 19/30\n",
      "95/95 [==============================] - 7s 72ms/step - loss: 1.7491 - accuracy: 0.3140\n",
      "Epoch 20/30\n",
      "95/95 [==============================] - 7s 71ms/step - loss: 1.7395 - accuracy: 0.3113\n",
      "Epoch 21/30\n",
      "95/95 [==============================] - 7s 71ms/step - loss: 1.7784 - accuracy: 0.2877\n",
      "Epoch 22/30\n",
      "95/95 [==============================] - 7s 71ms/step - loss: 1.7338 - accuracy: 0.3189\n",
      "Epoch 23/30\n",
      "95/95 [==============================] - 7s 72ms/step - loss: 1.7148 - accuracy: 0.3336\n",
      "Epoch 24/30\n",
      "95/95 [==============================] - 7s 72ms/step - loss: 1.6730 - accuracy: 0.3452\n",
      "Epoch 25/30\n",
      "95/95 [==============================] - 7s 73ms/step - loss: 1.6880 - accuracy: 0.3319\n",
      "Epoch 26/30\n",
      "95/95 [==============================] - 7s 72ms/step - loss: 1.6482 - accuracy: 0.3645\n",
      "Epoch 27/30\n",
      "95/95 [==============================] - 7s 73ms/step - loss: 1.6775 - accuracy: 0.3515\n",
      "Epoch 28/30\n",
      "95/95 [==============================] - 7s 72ms/step - loss: 1.5866 - accuracy: 0.3914\n",
      "Epoch 29/30\n",
      "95/95 [==============================] - 7s 70ms/step - loss: 1.5950 - accuracy: 0.3884\n",
      "Epoch 30/30\n",
      "95/95 [==============================] - 7s 71ms/step - loss: 1.5682 - accuracy: 0.3987\n"
     ]
    },
    {
     "data": {
      "text/plain": [
       "<keras.callbacks.History at 0x2810c5434f0>"
      ]
     },
     "execution_count": 10,
     "metadata": {},
     "output_type": "execute_result"
    }
   ],
   "source": [
    "cnn.compile(optimizer='adam',loss='categorical_crossentropy',metrics=['accuracy'])\n",
    "cnn.fit(train_genter, epochs=30)"
   ]
  },
  {
   "cell_type": "code",
   "execution_count": 11,
   "id": "e78da6a9",
   "metadata": {
    "ExecuteTime": {
     "end_time": "2022-10-02T23:14:15.682079Z",
     "start_time": "2022-10-02T23:14:14.177347Z"
    }
   },
   "outputs": [
    {
     "name": "stdout",
     "output_type": "stream",
     "text": [
      "25/25 [==============================] - 1s 51ms/step - loss: 1.7170 - accuracy: 0.3442\n"
     ]
    },
    {
     "data": {
      "text/plain": [
       "[1.7170146703720093, 0.34415584802627563]"
      ]
     },
     "execution_count": 11,
     "metadata": {},
     "output_type": "execute_result"
    }
   ],
   "source": [
    "cnn.evaluate(test_genter)"
   ]
  },
  {
   "cell_type": "code",
   "execution_count": 12,
   "id": "ba148ed1",
   "metadata": {
    "ExecuteTime": {
     "end_time": "2022-10-02T23:14:22.428477Z",
     "start_time": "2022-10-02T23:14:22.073878Z"
    }
   },
   "outputs": [],
   "source": [
    "#We save the neural network with the highest score\n",
    "model.save(\"model.h5\")"
   ]
  }
 ],
 "metadata": {
  "kernelspec": {
   "display_name": "Python 3 (ipykernel)",
   "language": "python",
   "name": "python3"
  },
  "language_info": {
   "codemirror_mode": {
    "name": "ipython",
    "version": 3
   },
   "file_extension": ".py",
   "mimetype": "text/x-python",
   "name": "python",
   "nbconvert_exporter": "python",
   "pygments_lexer": "ipython3",
   "version": "3.9.12"
  }
 },
 "nbformat": 4,
 "nbformat_minor": 5
}
