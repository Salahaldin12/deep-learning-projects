{
 "cells": [
  {
   "cell_type": "code",
   "execution_count": 1,
   "id": "e95858d4",
   "metadata": {
    "ExecuteTime": {
     "end_time": "2022-09-22T05:11:34.407973Z",
     "start_time": "2022-09-22T05:11:34.376538Z"
    }
   },
   "outputs": [],
   "source": [
    "import splitfolders"
   ]
  },
  {
   "cell_type": "code",
   "execution_count": 2,
   "id": "2cdbeebc",
   "metadata": {
    "ExecuteTime": {
     "end_time": "2022-09-22T05:12:04.557634Z",
     "start_time": "2022-09-22T05:11:35.383003Z"
    }
   },
   "outputs": [
    {
     "name": "stderr",
     "output_type": "stream",
     "text": [
      "Copying files: 4000 files [00:29, 137.21 files/s]\n"
     ]
    }
   ],
   "source": [
    "inputfolder = \"psdata\"\n",
    "outputfolder = \"data\"\n",
    "splitfolders.ratio(inputfolder,outputfolder,seed=42,ratio=(.6,.2,.2))"
   ]
  },
  {
   "cell_type": "code",
   "execution_count": 3,
   "id": "d03872ad",
   "metadata": {
    "ExecuteTime": {
     "end_time": "2022-09-22T05:12:12.366907Z",
     "start_time": "2022-09-22T05:12:12.359148Z"
    }
   },
   "outputs": [
    {
     "name": "stdout",
     "output_type": "stream",
     "text": [
      "Help on function ratio in module splitfolders.split:\n",
      "\n",
      "ratio(input, output='output', seed=1337, ratio=(0.8, 0.1, 0.1), group_prefix=None, move=False)\n",
      "\n"
     ]
    }
   ],
   "source": [
    "help(splitfolders.ratio)"
   ]
  }
 ],
 "metadata": {
  "kernelspec": {
   "display_name": "Python 3 (ipykernel)",
   "language": "python",
   "name": "python3"
  },
  "language_info": {
   "codemirror_mode": {
    "name": "ipython",
    "version": 3
   },
   "file_extension": ".py",
   "mimetype": "text/x-python",
   "name": "python",
   "nbconvert_exporter": "python",
   "pygments_lexer": "ipython3",
   "version": "3.9.12"
  }
 },
 "nbformat": 4,
 "nbformat_minor": 5
}
