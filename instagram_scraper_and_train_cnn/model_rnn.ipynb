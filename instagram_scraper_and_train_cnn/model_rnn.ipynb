{
 "cells": [
  {
   "cell_type": "code",
   "execution_count": 10,
   "id": "445153e4",
   "metadata": {
    "ExecuteTime": {
     "end_time": "2022-09-22T05:15:08.864121Z",
     "start_time": "2022-09-22T05:15:08.851700Z"
    }
   },
   "outputs": [],
   "source": [
    "#import Libraries\n",
    "from tensorflow.keras.layers import Conv2D,Flatten,Dense,MaxPool2D,BatchNormalization,GlobalAveragePooling2D\n",
    "from tensorflow.keras.applications.resnet50 import preprocess_input , decode_predictions\n",
    "from tensorflow.keras.preprocessing.image import ImageDataGenerator ,load_img\n",
    "from tensorflow.keras.applications.resnet50 import ResNet50\n",
    "from tensorflow.keras.preprocessing import image\n",
    "from tensorflow.keras.models import Sequential\n",
    "from tensorflow.keras.models import Model\n",
    "import matplotlib as plt \n",
    "import numpy as np \n",
    "from tensorflow.keras import layers"
   ]
  },
  {
   "cell_type": "code",
   "execution_count": 2,
   "id": "5ce887ef",
   "metadata": {
    "ExecuteTime": {
     "end_time": "2022-09-22T05:11:15.477583Z",
     "start_time": "2022-09-22T05:11:15.471832Z"
    }
   },
   "outputs": [],
   "source": [
    "#Define data and store it in variables\n",
    "img_height, img_width = (224,224)\n",
    "batch_size= 32\n",
    "train_data = f\"data/train\"\n",
    "val_data = f\"data/val\"\n",
    "test_data = f\"data/test\""
   ]
  },
  {
   "cell_type": "code",
   "execution_count": 4,
   "id": "0ba4cfa3",
   "metadata": {
    "ExecuteTime": {
     "end_time": "2022-09-22T05:12:18.209509Z",
     "start_time": "2022-09-22T05:12:18.059554Z"
    }
   },
   "outputs": [
    {
     "name": "stdout",
     "output_type": "stream",
     "text": [
      "Found 1440 images belonging to 4 classes.\n",
      "Found 320 images belonging to 4 classes.\n"
     ]
    }
   ],
   "source": [
    "#Divide into training, testing and validation\n",
    "train_data_1 = ImageDataGenerator(preprocessing_function=preprocess_input,\n",
    "                                  shear_range=0.2,\n",
    "                                  zoom_range=0.2,\n",
    "                                  horizontal_flip=True,\n",
    "                                  validation_split=0.4)\n",
    "train_genter = train_data_1.flow_from_directory(train_data,\n",
    "                                               target_size=(img_height,img_width),\n",
    "                                               batch_size=batch_size,\n",
    "                                               class_mode=\"categorical\",\n",
    "                                               subset=\"training\")\n",
    "val_genter = train_data_1.flow_from_directory(val_data,\n",
    "                                               target_size=(img_height,img_width),\n",
    "                                               batch_size=batch_size,\n",
    "                                               class_mode=\"categorical\",\n",
    "                                               subset=\"validation\")"
   ]
  },
  {
   "cell_type": "code",
   "execution_count": 5,
   "id": "1067456d",
   "metadata": {
    "ExecuteTime": {
     "end_time": "2022-09-22T05:12:20.382214Z",
     "start_time": "2022-09-22T05:12:20.307801Z"
    }
   },
   "outputs": [
    {
     "name": "stdout",
     "output_type": "stream",
     "text": [
      "Found 320 images belonging to 4 classes.\n"
     ]
    }
   ],
   "source": [
    "test_genter = train_data_1.flow_from_directory(test_data,\n",
    "                                               target_size=(img_height,img_width),\n",
    "                                               batch_size=batch_size,\n",
    "                                               class_mode=\"categorical\",\n",
    "                                               subset=\"validation\")"
   ]
  },
  {
   "cell_type": "code",
   "execution_count": 6,
   "id": "7241671a",
   "metadata": {
    "ExecuteTime": {
     "end_time": "2022-09-22T05:12:22.443584Z",
     "start_time": "2022-09-22T05:12:22.004816Z"
    }
   },
   "outputs": [
    {
     "data": {
      "text/plain": [
       "(32, 224, 224, 3)"
      ]
     },
     "execution_count": 6,
     "metadata": {},
     "output_type": "execute_result"
    }
   ],
   "source": [
    "x,y = test_genter.next()\n",
    "x.shape"
   ]
  },
  {
   "cell_type": "code",
   "execution_count": 21,
   "id": "05baf7e2",
   "metadata": {
    "ExecuteTime": {
     "end_time": "2022-09-22T05:35:50.883288Z",
     "start_time": "2022-09-22T05:33:07.026055Z"
    }
   },
   "outputs": [
    {
     "name": "stdout",
     "output_type": "stream",
     "text": [
      "Epoch 1/2\n",
      "45/45 [==============================] - 82s 2s/step - loss: 0.2532 - accuracy: 0.9375\n",
      "Epoch 2/2\n",
      "45/45 [==============================] - 80s 2s/step - loss: 0.0649 - accuracy: 0.9840\n"
     ]
    },
    {
     "data": {
      "text/plain": [
       "<keras.callbacks.History at 0x2408505f4c0>"
      ]
     },
     "execution_count": 21,
     "metadata": {},
     "output_type": "execute_result"
    }
   ],
   "source": [
    "#Building a neural network and training it on images\n",
    "model_cs = ResNet50(include_top=False,weights=\"imagenet\")\n",
    "x = model_cs.output\n",
    "x = GlobalAveragePooling2D()(x)\n",
    "x = Dense(1024,activation=\"relu\")(x)\n",
    "pred = Dense(train_genter.num_classes,activation='softmax')(x)\n",
    "model = Model(inputs=model_cs.input,outputs=pred)\n",
    "for layer in model_cs.layers:\n",
    "    layer.trainable = False\n",
    "model.compile(optimizer='adam',loss='categorical_crossentropy',metrics=['accuracy'])\n",
    "model.fit(train_genter, epochs=2)"
   ]
  },
  {
   "cell_type": "code",
   "execution_count": 22,
   "id": "e74d8b5a",
   "metadata": {
    "ExecuteTime": {
     "end_time": "2022-09-22T05:36:14.545100Z",
     "start_time": "2022-09-22T05:35:55.623421Z"
    }
   },
   "outputs": [
    {
     "name": "stdout",
     "output_type": "stream",
     "text": [
      "10/10 [==============================] - 19s 2s/step - loss: 0.0786 - accuracy: 0.9875\n"
     ]
    },
    {
     "data": {
      "text/plain": [
       "[0.07858682423830032, 0.987500011920929]"
      ]
     },
     "execution_count": 22,
     "metadata": {},
     "output_type": "execute_result"
    }
   ],
   "source": [
    "model.evaluate(test_genter)"
   ]
  },
  {
   "cell_type": "code",
   "execution_count": 14,
   "id": "d8191519",
   "metadata": {
    "ExecuteTime": {
     "end_time": "2022-09-22T05:16:47.643624Z",
     "start_time": "2022-09-22T05:16:47.540902Z"
    }
   },
   "outputs": [],
   "source": [
    "cnn = Sequential([\n",
    "                  layers.Conv2D(32, (2,2), activation='relu', input_shape=(224, 224, 3)),\n",
    "                  layers.MaxPooling2D(3,3),\n",
    "                  layers.Conv2D(64, kernel_size=(3,3),activation='relu',kernel_initializer='he_normal'),\n",
    "                  layers.MaxPooling2D(2,2),\n",
    "                  #layers.Conv2D(64, (2, 2), activation='relu'),\n",
    "                  layers.Conv2D(64, kernel_size=(2,2),activation='relu',kernel_initializer='he_normal'),\n",
    "                  layers.MaxPooling2D(2,2),\n",
    "                  layers.Flatten(),\n",
    "                  layers.Dense(128,activation='relu'),\n",
    "                  layers.Dense(4,activation='softmax',kernel_initializer='glorot_normal')\n",
    "                  \n",
    "])"
   ]
  },
  {
   "cell_type": "code",
   "execution_count": 18,
   "id": "9261ca0b",
   "metadata": {
    "ExecuteTime": {
     "end_time": "2022-09-22T05:28:18.514190Z",
     "start_time": "2022-09-22T05:23:14.428304Z"
    }
   },
   "outputs": [
    {
     "name": "stdout",
     "output_type": "stream",
     "text": [
      "Epoch 1/10\n",
      "45/45 [==============================] - 30s 657ms/step - loss: 1.1345 - accuracy: 0.5319\n",
      "Epoch 2/10\n",
      "45/45 [==============================] - 30s 664ms/step - loss: 0.8920 - accuracy: 0.6250\n",
      "Epoch 3/10\n",
      "45/45 [==============================] - 30s 664ms/step - loss: 0.8105 - accuracy: 0.6750\n",
      "Epoch 4/10\n",
      "45/45 [==============================] - 30s 667ms/step - loss: 0.7651 - accuracy: 0.6986\n",
      "Epoch 5/10\n",
      "45/45 [==============================] - 30s 665ms/step - loss: 0.6994 - accuracy: 0.7167\n",
      "Epoch 6/10\n",
      "45/45 [==============================] - 30s 672ms/step - loss: 0.6100 - accuracy: 0.7569\n",
      "Epoch 7/10\n",
      "45/45 [==============================] - 31s 682ms/step - loss: 0.5786 - accuracy: 0.7861\n",
      "Epoch 8/10\n",
      "45/45 [==============================] - 31s 677ms/step - loss: 0.6253 - accuracy: 0.7569\n",
      "Epoch 9/10\n",
      "45/45 [==============================] - 30s 669ms/step - loss: 0.5094 - accuracy: 0.7951\n",
      "Epoch 10/10\n",
      "45/45 [==============================] - 31s 682ms/step - loss: 0.6532 - accuracy: 0.7528\n"
     ]
    },
    {
     "data": {
      "text/plain": [
       "<keras.callbacks.History at 0x240de9f4f10>"
      ]
     },
     "execution_count": 18,
     "metadata": {},
     "output_type": "execute_result"
    }
   ],
   "source": [
    "cnn.compile(optimizer='adam',loss='categorical_crossentropy',metrics=['accuracy'])\n",
    "cnn.fit(train_genter, epochs=10)"
   ]
  },
  {
   "cell_type": "code",
   "execution_count": 20,
   "id": "3595a9e4",
   "metadata": {
    "ExecuteTime": {
     "end_time": "2022-09-22T05:32:07.878357Z",
     "start_time": "2022-09-22T05:32:03.021747Z"
    }
   },
   "outputs": [
    {
     "name": "stdout",
     "output_type": "stream",
     "text": [
      "10/10 [==============================] - 4s 423ms/step - loss: 0.9041 - accuracy: 0.6594\n"
     ]
    },
    {
     "data": {
      "text/plain": [
       "[0.9041054844856262, 0.659375011920929]"
      ]
     },
     "execution_count": 20,
     "metadata": {},
     "output_type": "execute_result"
    }
   ],
   "source": [
    "cnn.evaluate(test_genter)"
   ]
  }
 ],
 "metadata": {
  "kernelspec": {
   "display_name": "Python 3 (ipykernel)",
   "language": "python",
   "name": "python3"
  },
  "language_info": {
   "codemirror_mode": {
    "name": "ipython",
    "version": 3
   },
   "file_extension": ".py",
   "mimetype": "text/x-python",
   "name": "python",
   "nbconvert_exporter": "python",
   "pygments_lexer": "ipython3",
   "version": "3.9.12"
  }
 },
 "nbformat": 4,
 "nbformat_minor": 5
}
