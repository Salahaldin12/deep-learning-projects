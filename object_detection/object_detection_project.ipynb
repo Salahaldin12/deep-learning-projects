{
 "cells": [
  {
   "cell_type": "markdown",
   "id": "f6b8054c",
   "metadata": {},
   "source": [
    "## object detection"
   ]
  },
  {
   "cell_type": "code",
   "execution_count": 1,
   "id": "859c2213",
   "metadata": {
    "ExecuteTime": {
     "end_time": "2022-10-02T21:59:35.187503Z",
     "start_time": "2022-10-02T21:59:35.036089Z"
    }
   },
   "outputs": [],
   "source": [
    "#import Libraries\n",
    "import cv2 as cv \n",
    "import numpy as np\n",
    "from numpy.lib.function_base import append"
   ]
  },
  {
   "cell_type": "code",
   "execution_count": 2,
   "id": "f9001cc4",
   "metadata": {
    "ExecuteTime": {
     "end_time": "2022-10-02T21:59:48.910991Z",
     "start_time": "2022-10-02T21:59:36.474117Z"
    }
   },
   "outputs": [],
   "source": [
    "# read camera and coco names \n",
    "vop = cv.VideoCapture(0)\n",
    "wht = 320\n",
    "nth = 0.3\n",
    "cth = 0.3\n",
    "classFile = 'coco.names'\n",
    "# https://opencv.org/introduction-to-the-coco-dataset/\n",
    "classNames = []"
   ]
  },
  {
   "cell_type": "code",
   "execution_count": 3,
   "id": "003e4641",
   "metadata": {
    "ExecuteTime": {
     "end_time": "2022-10-02T22:00:03.413638Z",
     "start_time": "2022-10-02T22:00:03.378021Z"
    }
   },
   "outputs": [],
   "source": [
    "#Read yolo model files\n",
    "with open(classFile , 'rt') as f:\n",
    "    classNames = f.read().rstrip('\\n').split('\\n')\n",
    "model_cft = 'yolov3-tiny.cfg'\n",
    "model_weights = 'yolov3-tiny.weights'\n",
    "net = cv.dnn.readNetFromDarknet(model_cft,model_weights)\n",
    "net.setPreferableBackend(cv.dnn.DNN_BACKEND_OPENCV)\n",
    "net.setPreferableTarget(cv.dnn.DNN_TARGET_CPU)"
   ]
  },
  {
   "cell_type": "code",
   "execution_count": 4,
   "id": "dc551800",
   "metadata": {
    "ExecuteTime": {
     "end_time": "2022-10-02T22:00:04.604837Z",
     "start_time": "2022-10-02T22:00:04.592845Z"
    }
   },
   "outputs": [],
   "source": [
    "# We create a function to determine the object and its dimensions\n",
    "def find_objects(outputs,img):\n",
    "    hT,wT,cT = img.shape\n",
    "    bbox = []\n",
    "    classid = []\n",
    "    confs = []\n",
    "    for output in outputs:\n",
    "        for det in output:\n",
    "            score = det[5:]\n",
    "            classsd = np.argmax(score)\n",
    "            conf = score[classsd]\n",
    "            if conf > cth:\n",
    "                w,h = (int(det[2]*wT) , int(det[3]*hT))\n",
    "                x,y = int((det[0]*wT) - w/2), int ((det[1]*hT)-h/2)\n",
    "                bbox.append([x,y,w,h])\n",
    "                classid.append(classsd)\n",
    "                confs.append(float(conf))\n",
    "    print(len(bbox))\n",
    "    ind = cv.dnn.NMSBoxes(bbox,confs,cth,nth)\n",
    "    print(ind)\n",
    "    for i in ind:\n",
    "        i = i[0]\n",
    "        box = bbox[i]\n",
    "        x,y,w,h = box[0],box[1],box[2],box[3]\n",
    "        cv.rectangle(img, (x,y),(x+w,y+h),(255,0,0),2)\n",
    "        cv.putText(img , f\"{classNames[classid[i]].upper()} {int(confs[i]*100)}%\",(x,y-10),cv.FONT_HERSHEY_COMPLEX,0.6,(0,0,255),2)\n",
    "        "
   ]
  },
  {
   "cell_type": "code",
   "execution_count": 5,
   "id": "8999155e",
   "metadata": {
    "ExecuteTime": {
     "end_time": "2022-10-02T22:00:10.409488Z",
     "start_time": "2022-10-02T22:00:06.112693Z"
    }
   },
   "outputs": [
    {
     "name": "stdout",
     "output_type": "stream",
     "text": [
      "0\n",
      "()\n",
      "0\n",
      "()\n",
      "0\n",
      "()\n",
      "0\n",
      "()\n",
      "0\n",
      "()\n",
      "0\n",
      "()\n",
      "0\n",
      "()\n",
      "0\n",
      "()\n",
      "0\n",
      "()\n",
      "0\n",
      "()\n",
      "0\n",
      "()\n",
      "0\n",
      "()\n",
      "0\n",
      "()\n",
      "0\n",
      "()\n",
      "0\n",
      "()\n",
      "0\n",
      "()\n",
      "0\n",
      "()\n",
      "0\n",
      "()\n",
      "0\n",
      "()\n",
      "0\n",
      "()\n",
      "0\n",
      "()\n",
      "0\n",
      "()\n",
      "0\n",
      "()\n",
      "0\n",
      "()\n",
      "0\n",
      "()\n",
      "0\n",
      "()\n",
      "0\n",
      "()\n",
      "0\n",
      "()\n",
      "0\n",
      "()\n",
      "0\n",
      "()\n",
      "0\n",
      "()\n",
      "0\n",
      "()\n",
      "0\n",
      "()\n",
      "0\n",
      "()\n",
      "0\n",
      "()\n",
      "0\n",
      "()\n",
      "1\n",
      "[[0]]\n",
      "1\n",
      "[[0]]\n",
      "1\n",
      "[[0]]\n",
      "1\n",
      "[[0]]\n",
      "2\n",
      "[[0]\n",
      " [1]]\n",
      "1\n",
      "[[0]]\n",
      "1\n",
      "[[0]]\n",
      "3\n",
      "[[0]\n",
      " [2]]\n"
     ]
    }
   ],
   "source": [
    "while True:\n",
    "    isTrue,img = vop.read()\n",
    "    blob = cv.dnn.blobFromImage(img , 1/255 , (wht,wht),[0.,0,0],crop=False)\n",
    "    net.setInput(blob)\n",
    "    layers_names = net.getLayerNames()\n",
    "    output_names = [layers_names[i[0]-1] for i in net.getUnconnectedOutLayers()]\n",
    "    output = net.forward(output_names)\n",
    "    find_objects(output,img)\n",
    "    cv.imshow(\"Webcam\" ,img)\n",
    "    key = cv.waitKey(1)\n",
    "    #It shuts down when the esc key is pressed\n",
    "    if key == 27:\n",
    "        break\n",
    "vop.release()\n",
    "cv.destroyAllWindows()"
   ]
  },
  {
   "cell_type": "code",
   "execution_count": null,
   "id": "5649349c",
   "metadata": {},
   "outputs": [],
   "source": []
  },
  {
   "cell_type": "code",
   "execution_count": null,
   "id": "1fea6c9c",
   "metadata": {},
   "outputs": [],
   "source": []
  },
  {
   "cell_type": "code",
   "execution_count": null,
   "id": "8f762a1f",
   "metadata": {},
   "outputs": [],
   "source": []
  },
  {
   "cell_type": "code",
   "execution_count": null,
   "id": "31c4fceb",
   "metadata": {},
   "outputs": [],
   "source": []
  },
  {
   "cell_type": "code",
   "execution_count": null,
   "id": "e0f66f46",
   "metadata": {},
   "outputs": [],
   "source": []
  },
  {
   "cell_type": "code",
   "execution_count": null,
   "id": "e7bec4d0",
   "metadata": {},
   "outputs": [],
   "source": []
  },
  {
   "cell_type": "code",
   "execution_count": null,
   "id": "7a19b84f",
   "metadata": {},
   "outputs": [],
   "source": []
  }
 ],
 "metadata": {
  "kernelspec": {
   "display_name": "Python 3 (ipykernel)",
   "language": "python",
   "name": "python3"
  },
  "language_info": {
   "codemirror_mode": {
    "name": "ipython",
    "version": 3
   },
   "file_extension": ".py",
   "mimetype": "text/x-python",
   "name": "python",
   "nbconvert_exporter": "python",
   "pygments_lexer": "ipython3",
   "version": "3.9.12"
  }
 },
 "nbformat": 4,
 "nbformat_minor": 5
}
